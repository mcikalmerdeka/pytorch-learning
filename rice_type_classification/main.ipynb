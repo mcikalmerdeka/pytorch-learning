{
 "cells": [
  {
   "cell_type": "markdown",
   "id": "2a9d34a0",
   "metadata": {},
   "source": [
    "## 1. Initializations and Dataset Download"
   ]
  },
  {
   "cell_type": "code",
   "execution_count": null,
   "id": "60ff4bca",
   "metadata": {},
   "outputs": [],
   "source": [
    "# !pip install opendatasets --quiet\n",
    "# import opendatasets as od\n",
    "# od.download(\"https://www.kaggle.com/datasets/mssmartypants/rice-type-classification\")"
   ]
  },
  {
   "cell_type": "markdown",
   "id": "12065682",
   "metadata": {},
   "source": [
    "## 2. Imports\n",
    "\n",
    "Lets start by getting all our imports, keep in mind that PyTorch is not automatically detects and trains on GPU, you have to tell it to use cuda. In case you want to train on Mac Silicon replace cuda with mps."
   ]
  },
  {
   "cell_type": "code",
   "execution_count": null,
   "id": "8c2f4054",
   "metadata": {},
   "outputs": [],
   "source": []
  },
  {
   "cell_type": "markdown",
   "id": "d8f8ffe5",
   "metadata": {},
   "source": [
    "## 3. Dataset"
   ]
  },
  {
   "cell_type": "code",
   "execution_count": null,
   "id": "7f21744e",
   "metadata": {},
   "outputs": [],
   "source": []
  },
  {
   "cell_type": "code",
   "execution_count": null,
   "id": "bd12481e",
   "metadata": {},
   "outputs": [],
   "source": []
  },
  {
   "cell_type": "markdown",
   "id": "b1139bb4",
   "metadata": {},
   "source": [
    "## 4. Data Preprocessing"
   ]
  },
  {
   "cell_type": "code",
   "execution_count": null,
   "id": "a3b604c4",
   "metadata": {},
   "outputs": [],
   "source": []
  },
  {
   "cell_type": "code",
   "execution_count": null,
   "id": "33fbc418",
   "metadata": {},
   "outputs": [],
   "source": []
  },
  {
   "cell_type": "markdown",
   "id": "6690e012",
   "metadata": {},
   "source": [
    "## 5. Data Splitting"
   ]
  },
  {
   "cell_type": "code",
   "execution_count": null,
   "id": "2678a518",
   "metadata": {},
   "outputs": [],
   "source": []
  },
  {
   "cell_type": "code",
   "execution_count": null,
   "id": "0c7cae23",
   "metadata": {},
   "outputs": [],
   "source": []
  },
  {
   "cell_type": "markdown",
   "id": "eb6c084b",
   "metadata": {},
   "source": [
    "## 6. Dataset Object"
   ]
  },
  {
   "cell_type": "code",
   "execution_count": null,
   "id": "5848a9af",
   "metadata": {},
   "outputs": [],
   "source": []
  },
  {
   "cell_type": "code",
   "execution_count": null,
   "id": "35783aa1",
   "metadata": {},
   "outputs": [],
   "source": []
  },
  {
   "cell_type": "markdown",
   "id": "4a6b9405",
   "metadata": {},
   "source": [
    "## 7. Training Hyper Parameters"
   ]
  },
  {
   "cell_type": "code",
   "execution_count": null,
   "id": "9709043d",
   "metadata": {},
   "outputs": [],
   "source": []
  },
  {
   "cell_type": "markdown",
   "id": "e423f3f1",
   "metadata": {},
   "source": [
    "## 8. Data Loaders"
   ]
  },
  {
   "cell_type": "code",
   "execution_count": null,
   "id": "cf51a120",
   "metadata": {},
   "outputs": [],
   "source": []
  },
  {
   "cell_type": "markdown",
   "id": "8bd4395f",
   "metadata": {},
   "source": [
    "## 9. Model Class"
   ]
  },
  {
   "cell_type": "code",
   "execution_count": null,
   "id": "10ba58b8",
   "metadata": {},
   "outputs": [],
   "source": []
  },
  {
   "cell_type": "markdown",
   "id": "6689a311",
   "metadata": {},
   "source": [
    "## 10. Model Creation"
   ]
  },
  {
   "cell_type": "code",
   "execution_count": null,
   "id": "2797e7de",
   "metadata": {},
   "outputs": [],
   "source": []
  },
  {
   "cell_type": "markdown",
   "id": "34a00e22",
   "metadata": {},
   "source": [
    "## 11. Loss and Optimizer"
   ]
  },
  {
   "cell_type": "code",
   "execution_count": null,
   "id": "1684d099",
   "metadata": {},
   "outputs": [],
   "source": []
  },
  {
   "cell_type": "markdown",
   "id": "3687f10c",
   "metadata": {},
   "source": [
    "## 12. Training"
   ]
  },
  {
   "cell_type": "code",
   "execution_count": null,
   "id": "da62ad20",
   "metadata": {},
   "outputs": [],
   "source": []
  },
  {
   "cell_type": "markdown",
   "id": "4d7c2843",
   "metadata": {},
   "source": [
    "## 13. Testing"
   ]
  },
  {
   "cell_type": "code",
   "execution_count": null,
   "id": "d728ea44",
   "metadata": {},
   "outputs": [],
   "source": []
  },
  {
   "cell_type": "markdown",
   "id": "7ff36b89",
   "metadata": {},
   "source": [
    "## 14. Plotting and Visualizations (Optional)"
   ]
  },
  {
   "cell_type": "code",
   "execution_count": null,
   "id": "23332d48",
   "metadata": {},
   "outputs": [],
   "source": []
  },
  {
   "cell_type": "markdown",
   "id": "2c3d8a00",
   "metadata": {},
   "source": [
    "## 15. Inference"
   ]
  },
  {
   "cell_type": "code",
   "execution_count": null,
   "id": "1463b135",
   "metadata": {},
   "outputs": [],
   "source": []
  }
 ],
 "metadata": {
  "kernelspec": {
   "display_name": ".venv",
   "language": "python",
   "name": "python3"
  },
  "language_info": {
   "codemirror_mode": {
    "name": "ipython",
    "version": 3
   },
   "file_extension": ".py",
   "mimetype": "text/x-python",
   "name": "python",
   "nbconvert_exporter": "python",
   "pygments_lexer": "ipython3",
   "version": "3.11.6"
  }
 },
 "nbformat": 4,
 "nbformat_minor": 5
}
